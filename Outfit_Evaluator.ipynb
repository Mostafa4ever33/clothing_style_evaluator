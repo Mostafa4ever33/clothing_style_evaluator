{
 "cells": [
  {
   "cell_type": "markdown",
   "metadata": {},
   "source": [
    "# Do these go well together? - Outfit Evaluator"
   ]
  },
  {
   "cell_type": "code",
   "execution_count": 1,
   "metadata": {
    "collapsed": false
   },
   "outputs": [
    {
     "name": "stderr",
     "output_type": "stream",
     "text": [
      "Using Theano backend.\n"
     ]
    },
    {
     "name": "stdout",
     "output_type": "stream",
     "text": [
      "local or url? : local\n",
      "enter local image path: c:/users/dschappler/desktop/hose.jpg\n",
      "Image successfully loaded.\n",
      "local or url? : local\n",
      "enter local image path: c:/users/dschappler/desktop/schuh.jpg\n",
      "Image successfully loaded.\n",
      "This outfit gets a score of 0.30\n",
      "Nice, this looks good together!\n"
     ]
    }
   ],
   "source": [
    "import outfit_evaluator as e\n",
    "e.evaluate_outfit()"
   ]
  }
 ],
 "metadata": {
  "anaconda-cloud": {},
  "kernelspec": {
   "display_name": "Python [Root]",
   "language": "python",
   "name": "Python [Root]"
  },
  "language_info": {
   "codemirror_mode": {
    "name": "ipython",
    "version": 2
   },
   "file_extension": ".py",
   "mimetype": "text/x-python",
   "name": "python",
   "nbconvert_exporter": "python",
   "pygments_lexer": "ipython2",
   "version": "2.7.12"
  }
 },
 "nbformat": 4,
 "nbformat_minor": 0
}
